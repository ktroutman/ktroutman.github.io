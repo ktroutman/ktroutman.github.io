{
 "cells": [
  {
   "cell_type": "markdown",
   "metadata": {},
   "source": [
    "# Using pandas category dtype for processing pipelines"
   ]
  },
  {
   "cell_type": "markdown",
   "metadata": {},
   "source": [
    "When processing known data of a reasonable size in a ETL pipeline, often you want to eek out some performance for the reading and transformations. If you have mixed data types (e.g. strings and floats), doing standard operations can be costly given that pandas makes a best-guess at the data type and will often read in particular columns as objects. \n",
    "\n",
    "Specifying data types when you read in the data has many benefits, and is even necessary for other frameworks such as dask. But when you are working with strings, they can take up alot of memory and are slower to evaluate. \n",
    "\n",
    "Enter the \"category\" data type from pandas.\n",
    "\n",
    "If you know beforehand that the values in a column are categorical, you can specify on read that the dtype of the column should be considered as such. "
   ]
  },
  {
   "cell_type": "code",
   "execution_count": 1,
   "metadata": {},
   "outputs": [],
   "source": [
    "import pandas as pd\n",
    "from pandas.api.types import CategoricalDtype\n",
    "import numpy as np"
   ]
  },
  {
   "cell_type": "code",
   "execution_count": 2,
   "metadata": {},
   "outputs": [],
   "source": [
    "pd.DataFrame({'PRICE_MULTIPLE':np.random.randint(low=1,high=5,size=10000),\n",
    "              'FX':np.random.choice(['USD','EUR','JPY','GBP'],size=10000),\n",
    "              'PRICE':np.random.random(size=10000)\n",
    "             }).to_csv('sample_data.csv',sep=';',index=False)"
   ]
  },
  {
   "cell_type": "code",
   "execution_count": 3,
   "metadata": {},
   "outputs": [],
   "source": [
    "df_withcat = pd.read_csv('sample_data.csv',sep=';',dtype={'PRICE_MULTIPLE':int,'FX':'category','PRICE':float})\n",
    "df_nocat = pd.read_csv('sample_data.csv',sep=';',dtype={'PRICE_MULTIPLE':int,'FX':str,'PRICE':float})"
   ]
  },
  {
   "cell_type": "code",
   "execution_count": 4,
   "metadata": {},
   "outputs": [
    {
     "data": {
      "text/plain": [
       "Index               128\n",
       "PRICE_MULTIPLE    40000\n",
       "FX                10192\n",
       "PRICE             80000\n",
       "dtype: int64"
      ]
     },
     "execution_count": 4,
     "metadata": {},
     "output_type": "execute_result"
    }
   ],
   "source": [
    "df_withcat.memory_usage()"
   ]
  },
  {
   "cell_type": "code",
   "execution_count": 5,
   "metadata": {},
   "outputs": [
    {
     "data": {
      "text/plain": [
       "Index               128\n",
       "PRICE_MULTIPLE    40000\n",
       "FX                80000\n",
       "PRICE             80000\n",
       "dtype: int64"
      ]
     },
     "execution_count": 5,
     "metadata": {},
     "output_type": "execute_result"
    }
   ],
   "source": [
    "df_nocat.memory_usage()"
   ]
  },
  {
   "cell_type": "markdown",
   "metadata": {},
   "source": [
    "## What do I gain from this?\n",
    "\n",
    "As you can see, the memory footprint with the category data type is significantly smaller. For the toy example, it may not be noticable, but for datasets with many categorical variables it makes a large difference.\n",
    "\n",
    "The real upside is realized when doing tranformations based on categorical data types instead of strings, however."
   ]
  },
  {
   "cell_type": "code",
   "execution_count": 16,
   "metadata": {},
   "outputs": [
    {
     "name": "stdout",
     "output_type": "stream",
     "text": [
      "189 µs ± 13.9 µs per loop (mean ± std. dev. of 10 runs, 1000 loops each)\n",
      "900 µs ± 151 µs per loop (mean ± std. dev. of 10 runs, 1000 loops each)\n"
     ]
    }
   ],
   "source": [
    "%timeit -r 10 -n 1000 df_withcat.loc[:,'FX']=='USD'\n",
    "%timeit -r 10 -n 1000 df_nocat.loc[:,'FX']=='USD'"
   ]
  },
  {
   "cell_type": "markdown",
   "metadata": {},
   "source": [
    "For the simple boolean operation above, there is a __~80% decrease in runtime__. For complexer functions, this computation savings will be obviously much more significant.\n",
    "\n",
    "What is the reason for this?\n",
    "\n",
    "Under the hood, the different values of the categorical feature are encoded into a dictionary, and the actual series is then indexed with the values of the categories. Therefore operations on categorical variables are similar to operations with integers -- or even faster since they are encoded as `int8` instead of the default `int32`. This is a way of encoding the data more efficiently, which is broadly also how compression algorithms work. "
   ]
  },
  {
   "cell_type": "code",
   "execution_count": 7,
   "metadata": {},
   "outputs": [
    {
     "name": "stdout",
     "output_type": "stream",
     "text": [
      "195 µs ± 36.1 µs per loop (mean ± std. dev. of 10 runs, 1000 loops each)\n",
      "204 µs ± 12.8 µs per loop (mean ± std. dev. of 10 runs, 1000 loops each)\n"
     ]
    }
   ],
   "source": [
    "%timeit -r 10 -n 1000 df_withcat.loc[:,'FX']=='USD'\n",
    "%timeit -r 10 -n 1000 df_withcat.loc[:,'PRICE_MULTIPLE']==1"
   ]
  },
  {
   "cell_type": "code",
   "execution_count": 8,
   "metadata": {},
   "outputs": [
    {
     "data": {
      "text/plain": [
       "0    3\n",
       "1    2\n",
       "2    1\n",
       "3    1\n",
       "4    0\n",
       "dtype: int8"
      ]
     },
     "execution_count": 8,
     "metadata": {},
     "output_type": "execute_result"
    }
   ],
   "source": [
    "df_withcat.loc[:,'FX'].head().cat.codes"
   ]
  },
  {
   "cell_type": "markdown",
   "metadata": {},
   "source": [
    "## What should you look out for when using the categorical data type?\n",
    "\n",
    "The main thing to be careful of is when appending data to the dataframe or adding/altering categories that were not in the original categories. This will cause python to convert the categorical dtype (back) to a object dtype. This can sneak up on you in your pipeline and have unintended side effects, not the least of which is a deterioration in performance.\n",
    "\n",
    "Let's try to change one of the values in the categorical column to a value not included in the original categories inferred from pandas."
   ]
  },
  {
   "cell_type": "code",
   "execution_count": 9,
   "metadata": {},
   "outputs": [],
   "source": [
    "df_withcat2 = df_withcat.copy()"
   ]
  },
  {
   "cell_type": "code",
   "execution_count": 10,
   "metadata": {},
   "outputs": [
    {
     "data": {
      "text/plain": [
       "ValueError('Cannot setitem on a Categorical with a new category, set the categories first')"
      ]
     },
     "execution_count": 10,
     "metadata": {},
     "output_type": "execute_result"
    }
   ],
   "source": [
    "try:\n",
    "    df_withcat2.iloc[-1] = (8,\"CAD\",0.8)\n",
    "except Exception as e:\n",
    "    error_msg = e\n",
    "error_msg"
   ]
  },
  {
   "cell_type": "markdown",
   "metadata": {},
   "source": [
    "As you can see, python throws an exception, complaining that it can't add a new category to an existing categorical variable. This, is a good thing. No one _likes_ exceptions, but it is better to know than not to know.\n",
    "\n",
    "Another case is when you append data to an existing dataframe with a categorical variable column.\n",
    "\n",
    "Appending a `DataFrame` which has the same categories works just fine."
   ]
  },
  {
   "cell_type": "code",
   "execution_count": 11,
   "metadata": {},
   "outputs": [
    {
     "data": {
      "text/plain": [
       "10045    EUR\n",
       "10046    GBP\n",
       "10047    EUR\n",
       "10048    EUR\n",
       "10049    USD\n",
       "Name: FX, dtype: category\n",
       "Categories (4, object): [EUR, GBP, JPY, USD]"
      ]
     },
     "execution_count": 11,
     "metadata": {},
     "output_type": "execute_result"
    }
   ],
   "source": [
    "df_withcat3a = df_withcat.copy()\n",
    "df_withcat3b = df_withcat.iloc[:50,:].copy()\n",
    "df_withcat3_full = pd.concat([df_withcat3a,df_withcat3b]) # OK\n",
    "df_withcat3_full.reset_index().FX.tail()"
   ]
  },
  {
   "cell_type": "markdown",
   "metadata": {},
   "source": [
    "But if we try to append a `DataFrame` with a different dtype on the column, then pandas converts to `obj` dtype."
   ]
  },
  {
   "cell_type": "code",
   "execution_count": 12,
   "metadata": {},
   "outputs": [
    {
     "data": {
      "text/plain": [
       "10045    EUR\n",
       "10046    GBP\n",
       "10047    EUR\n",
       "10048    EUR\n",
       "10049    USD\n",
       "Name: FX, dtype: object"
      ]
     },
     "execution_count": 12,
     "metadata": {},
     "output_type": "execute_result"
    }
   ],
   "source": [
    "df_withcat3c = df_nocat.iloc[:50,:].copy()\n",
    "df_withcat3_full = pd.concat([df_withcat3a,df_withcat3c]) # Works, but drops Category\n",
    "df_withcat3_full.reset_index().FX.tail()"
   ]
  },
  {
   "cell_type": "markdown",
   "metadata": {},
   "source": [
    "What about a `DataFrame` with category dtype, but with a different category set?"
   ]
  },
  {
   "cell_type": "code",
   "execution_count": 13,
   "metadata": {},
   "outputs": [
    {
     "data": {
      "text/plain": [
       "19995    CAD\n",
       "19996    USD\n",
       "19997    GBP\n",
       "19998    JPN\n",
       "19999    CAD\n",
       "Name: FX, dtype: object"
      ]
     },
     "execution_count": 13,
     "metadata": {},
     "output_type": "execute_result"
    }
   ],
   "source": [
    "df_withcat3d = df_nocat.copy().assign(\n",
    "    FX=np.random.choice(['USD','EUR','JPN','GBP','CAD'],size=10000))\\\n",
    ".astype({\"FX\":'category'})\n",
    "\n",
    "df_withcat3_full = pd.concat([df_withcat3a,df_withcat3d]) # Works, but drops Category\n",
    "df_withcat3_full.reset_index().FX.tail()"
   ]
  },
  {
   "cell_type": "markdown",
   "metadata": {},
   "source": [
    "## So whats the best way to avoid these corners?\n",
    "\n",
    "In my personal experience, nearly any column that I want to type as categorical also has a discrete number of categories that are known _a priori_. Therefore, I would typically write a dictionary for dtypes to be enforced \"on read\", and input all possible options in the category dtype beforehand. So even if the category \"CAD\" doesn't show up initially, python won't squawk if it shows up later."
   ]
  },
  {
   "cell_type": "code",
   "execution_count": 14,
   "metadata": {},
   "outputs": [
    {
     "data": {
      "text/plain": [
       "9995    GBP\n",
       "9996    USD\n",
       "9997    USD\n",
       "9998    USD\n",
       "9999    USD\n",
       "Name: FX, dtype: category\n",
       "Categories (5, object): [USD, EUR, JPY, GBP, CAD]"
      ]
     },
     "execution_count": 14,
     "metadata": {},
     "output_type": "execute_result"
    }
   ],
   "source": [
    "dt = {\"FX\": CategoricalDtype(categories=[\"USD\",\"EUR\",\"JPY\",\"GBP\",\"CAD\"]),'PRICE_MULTIPLE':int,'PRICE':float}\n",
    "df_withcat = pd.read_csv('sample_data.csv',sep=';',dtype=dt)\n",
    "df_withcat.FX.tail()"
   ]
  },
  {
   "cell_type": "code",
   "execution_count": 15,
   "metadata": {},
   "outputs": [
    {
     "data": {
      "text/plain": [
       "9995    GBP\n",
       "9996    USD\n",
       "9997    USD\n",
       "9998    USD\n",
       "9999    CAD\n",
       "Name: FX, dtype: category\n",
       "Categories (5, object): [USD, EUR, JPY, GBP, CAD]"
      ]
     },
     "execution_count": 15,
     "metadata": {},
     "output_type": "execute_result"
    }
   ],
   "source": [
    "df_withcat.iloc[-1] = (8,\"CAD\",0.8)\n",
    "df_withcat.FX.tail()"
   ]
  },
  {
   "cell_type": "markdown",
   "metadata": {},
   "source": [
    "This will help you preserve your types on read, but python being dynamically-typed, won't give you any guarantees. The best way to do this is with some kind of validation tool, such as great-expectations, pandera, or cerberus.\n",
    "\n",
    "But this is a topic for another post."
   ]
  }
 ],
 "metadata": {
  "kernelspec": {
   "display_name": "Python 3",
   "language": "python",
   "name": "python3"
  },
  "language_info": {
   "codemirror_mode": {
    "name": "ipython",
    "version": 3
   },
   "file_extension": ".py",
   "mimetype": "text/x-python",
   "name": "python",
   "nbconvert_exporter": "python",
   "pygments_lexer": "ipython3",
   "version": "3.6.5"
  }
 },
 "nbformat": 4,
 "nbformat_minor": 2
}
